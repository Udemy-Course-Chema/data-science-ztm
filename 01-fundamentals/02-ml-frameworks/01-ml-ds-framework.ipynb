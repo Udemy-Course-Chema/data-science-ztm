{
 "cells": [
  {
   "cell_type": "markdown",
   "id": "ff11794d",
   "metadata": {},
   "source": [
    "# Machine Learning / Data Science Framework"
   ]
  },
  {
   "cell_type": "markdown",
   "id": "d0c121d3",
   "metadata": {},
   "source": [
    "## Steps :\n",
    "\n",
    "### 1. Problem Definition\n",
    "\n",
    "1. \"What problem are trying to solve?\"\n",
    "    1. Supervised, Unsupervised, Classification, Regression\n",
    "\n",
    "### 2. Data\n",
    "\n",
    "1. \"What kind of data do we have?\"\n",
    "    1. Structured(Excel, CSV, Row & Columns, Unstructured(Images, Audio)\n",
    "\n",
    "### 3. Evaluation\n",
    "\n",
    "1. \"What defines success for you?\"\n",
    "    1. House Data -> Machine Learning Model -> House Price -> Predicted Price and Current Price\n",
    "\n",
    "### 4. Features\n",
    "\n",
    "1. \"What do we already know about the data?\" \n",
    "    1. Heart Disease, Body Weight (Numerical Feature), Categorical Feature\n",
    "\n",
    "### 5. Modelling \n",
    "\n",
    "1. \"Based on our problem and data, what model should we use?\"\n",
    "    1. Problem 1 -> Model 1; Problem 2 -> Model 2\n",
    "\n",
    "### 6. Experimentation\n",
    "\n"
   ]
  },
  {
   "cell_type": "markdown",
   "id": "a1ed484a",
   "metadata": {},
   "source": [
    "## Types of Machine Learning Problems\n",
    "\n",
    "When shouldn't you use machine learning? \n",
    "    1. Will a simple hand-coded instruction based system work?\n",
    "\n",
    "### Main Types of Machine Learning. \n",
    "\n",
    "1. Supervised Learning\n",
    "2. Unsupervised Learning\n",
    "3. Transfer Learning \n",
    "4. Reinforcement Learning. \n",
    "\n",
    "The most used are: Supervised, Unsupervised and Transfer Learning. \n",
    "\n",
    "#### Supervised Learning\n",
    "\n",
    "It is called supervised because **has data and labels**\n",
    "\n",
    "Types:\n",
    "1. Classification\n",
    "    1. \"Is this example one thing or another?\" \n",
    "    2. Binary Classification = two options\n",
    "    3. Multi-class classification = more than two options\n",
    "2. Regression\n",
    "    1. \"How much will this house sell for?\"\n",
    "    2. \"How many people will buy this app? Based a website visit and click.\"\n",
    "    3. Predict by numbers. \n",
    "\n",
    "#### Unsurpervised Learning\n",
    "\n",
    "**Has data but no labels.**\n",
    "\n",
    "Examples:\n",
    "* Purchase history of all customers at store. \n",
    "    * Then the marketing want to send out a promotion for next summer. \n",
    "\n",
    "#### Transfer Learning \n",
    "\n",
    "One Machine Learning model has learned in another machine learning. \n",
    "\n",
    "#### Reinforcement Learning\n",
    "\n",
    "It involves having a computer program perform some actions within a defined space \n",
    "\n",
    "Reinforcement Learning was used for DeepMind's AlphaGo. \n",
    "\n",
    "Examples:\n",
    "* Playing Chess"
   ]
  },
  {
   "cell_type": "markdown",
   "id": "63e28d37",
   "metadata": {},
   "source": [
    "---------------------------------------------------\n",
    "* Supervised Learning -> \"I know my inputs and outputs\": Heart Disease, House's Price. \n",
    "* Unsupervised Learning -> \"**I'm not sure of the outputs** but **I have *nputs**.\": Customer's Purchase Items. \n",
    "* Transfer Learning -> \"I think my problem may be similar to something else.\" \n",
    "\n"
   ]
  }
 ],
 "metadata": {
  "kernelspec": {
   "display_name": "Python 3 (ipykernel)",
   "language": "python",
   "name": "python3"
  },
  "language_info": {
   "codemirror_mode": {
    "name": "ipython",
    "version": 3
   },
   "file_extension": ".py",
   "mimetype": "text/x-python",
   "name": "python",
   "nbconvert_exporter": "python",
   "pygments_lexer": "ipython3",
   "version": "3.11.0"
  }
 },
 "nbformat": 4,
 "nbformat_minor": 5
}
