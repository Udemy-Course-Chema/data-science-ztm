{
 "cells": [
  {
   "cell_type": "markdown",
   "id": "8739e263",
   "metadata": {},
   "source": [
    "# Types of Evaluation"
   ]
  },
  {
   "cell_type": "markdown",
   "id": "88b5e203",
   "metadata": {},
   "source": [
    "\"What defines success for us?\" "
   ]
  },
  {
   "cell_type": "markdown",
   "id": "f0fbfc09",
   "metadata": {},
   "source": [
    "\"For this project to be worth pursuing further, we need a machine learning model with over 99% accuracy.\""
   ]
  },
  {
   "cell_type": "markdown",
   "id": "25534ce6",
   "metadata": {},
   "source": [
    "## Different Types of Metrics\n",
    "\n",
    "Classification|Regression|Recommendation|\n",
    "---|---|---|\n",
    "Accuracy| Mean absolute error(MAE)|Precision at K, common used|\n",
    "Preccision| Mean square error(MSE)|common used|\n",
    "Recall| Root mean squared error(RMSE)|-|"
   ]
  },
  {
   "cell_type": "markdown",
   "id": "c3bc6ae8",
   "metadata": {},
   "source": [
    "Examples: \n",
    "* Classifying car insurance claims (Find who is fault of being car's crushed).\n",
    "\n",
    "\n",
    "**What do you measures?**\n",
    "\n"
   ]
  },
  {
   "cell_type": "code",
   "execution_count": null,
   "id": "1887f02c",
   "metadata": {},
   "outputs": [],
   "source": []
  }
 ],
 "metadata": {
  "kernelspec": {
   "display_name": "Python 3 (ipykernel)",
   "language": "python",
   "name": "python3"
  },
  "language_info": {
   "codemirror_mode": {
    "name": "ipython",
    "version": 3
   },
   "file_extension": ".py",
   "mimetype": "text/x-python",
   "name": "python",
   "nbconvert_exporter": "python",
   "pygments_lexer": "ipython3",
   "version": "3.11.0"
  }
 },
 "nbformat": 4,
 "nbformat_minor": 5
}
