{
 "cells": [
  {
   "cell_type": "code",
   "execution_count": null,
   "id": "2ac65695",
   "metadata": {
    "vscode": {
     "languageId": "plaintext"
    }
   },
   "outputs": [],
   "source": [
    "# Features in Data"
   ]
  },
  {
   "cell_type": "markdown",
   "id": "8c2e88ca",
   "metadata": {},
   "source": [
    "\"What do we already know about the data?\""
   ]
  },
  {
   "cell_type": "markdown",
   "id": "681bd725",
   "metadata": {},
   "source": [
    "## Different Features of Data\n",
    "\n",
    "Heart Disease's Example:\n",
    "\n",
    "Suppose in an table, the fields are: Weight, Sex, Heart Rate, Chest Pain, Heart Disease. \n",
    "\n",
    "Those are **features of the data**  \n",
    "\n",
    "Also, the values, in the table of Heart Disease with the fields above, are features too. \n",
    "\n",
    "Differents features:\n",
    "1. Numerical Features.\n",
    "2. Categorical Features. \n",
    "3. Feature Engineering : Looking at different features of data and creating new ones/altering existing ones. \n",
    "4. Feature Coverage: Ensuring all samples have similar information\n",
    "\n",
    "\"What are features of your problem?\""
   ]
  },
  {
   "cell_type": "markdown",
   "id": "beaf0876",
   "metadata": {},
   "source": [
    "\n"
   ]
  }
 ],
 "metadata": {
  "kernelspec": {
   "display_name": "Python 3 (ipykernel)",
   "language": "python",
   "name": "python3"
  },
  "language_info": {
   "codemirror_mode": {
    "name": "ipython",
    "version": 3
   },
   "file_extension": ".py",
   "mimetype": "text/x-python",
   "name": "python",
   "nbconvert_exporter": "python",
   "pygments_lexer": "ipython3",
   "version": "3.11.0"
  }
 },
 "nbformat": 4,
 "nbformat_minor": 5
}
