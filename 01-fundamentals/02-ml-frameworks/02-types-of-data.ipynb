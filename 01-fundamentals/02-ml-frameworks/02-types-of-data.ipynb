{
 "cells": [
  {
   "cell_type": "markdown",
   "id": "f0eb3352",
   "metadata": {},
   "source": [
    "# Types of Data"
   ]
  },
  {
   "cell_type": "markdown",
   "id": "d798f328",
   "metadata": {},
   "source": [
    "\"What kind of data do we have?\" \n",
    "\n",
    "## Different type of data\n",
    "\n",
    "There are two main types of data:\n",
    "1. Structured\n",
    "    1. Examples: Excel, CSV, \n",
    "2. Unstructured\n",
    "    1. Examples: Images, Natural Language, text(transcribed phone call), videos and audio files. \n",
    "3. Static - data that doesn't change over time. \n",
    "    1. Examples: CSV(Stand for Comma Separates Values)\n",
    "4. Streaming: Update constantly (changed over time). \n",
    "    1. Examples: Newspapers, Strock price"
   ]
  }
 ],
 "metadata": {
  "kernelspec": {
   "display_name": "Python 3 (ipykernel)",
   "language": "python",
   "name": "python3"
  },
  "language_info": {
   "codemirror_mode": {
    "name": "ipython",
    "version": 3
   },
   "file_extension": ".py",
   "mimetype": "text/x-python",
   "name": "python",
   "nbconvert_exporter": "python",
   "pygments_lexer": "ipython3",
   "version": "3.11.0"
  }
 },
 "nbformat": 4,
 "nbformat_minor": 5
}
