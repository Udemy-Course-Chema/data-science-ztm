{
 "cells": [
  {
   "cell_type": "markdown",
   "id": "e555268f",
   "metadata": {},
   "source": [
    "# Arrays and Matrices "
   ]
  },
  {
   "cell_type": "markdown",
   "id": "e9b8b8a1",
   "metadata": {},
   "source": [
    "Menu:\n",
    "\n",
    "* [Viewing arrays and matrices](#Viewing-arrays-and-matrices)\n",
    "    * [Unique](#Unique)"
   ]
  },
  {
   "cell_type": "code",
   "execution_count": 3,
   "id": "8b249fea",
   "metadata": {},
   "outputs": [],
   "source": [
    "import pandas as pd\n",
    "import numpy as np"
   ]
  },
  {
   "cell_type": "markdown",
   "id": "313b829b",
   "metadata": {},
   "source": [
    "## Viewing arrays and matrices"
   ]
  },
  {
   "cell_type": "code",
   "execution_count": 9,
   "id": "2d0e1b52",
   "metadata": {},
   "outputs": [],
   "source": [
    "a1 = np.array([1,2,3])\n",
    "a2 = np.array( [ [1,2,3], [4,5,6] ] )\n",
    "a3 = np.array( [ [ [1,2,3],[4,5,6],[7,8,9] ],\n",
    "               [ [10,11,12], [13,14,15], [16,17,18] ]] )"
   ]
  },
  {
   "cell_type": "code",
   "execution_count": 4,
   "id": "6093a262",
   "metadata": {},
   "outputs": [],
   "source": [
    "random_array_4 = np.random.randint( 10, size=(5,3))\n",
    "random_array_5 = np.random.random((5,3))"
   ]
  },
  {
   "cell_type": "markdown",
   "id": "ec914a60",
   "metadata": {},
   "source": [
    "### Unique"
   ]
  },
  {
   "cell_type": "code",
   "execution_count": 6,
   "id": "8124f395",
   "metadata": {},
   "outputs": [
    {
     "data": {
      "text/plain": [
       "array([[2, 9, 9],\n",
       "       [6, 1, 8],\n",
       "       [7, 3, 9],\n",
       "       [4, 8, 9],\n",
       "       [0, 1, 4]])"
      ]
     },
     "execution_count": 6,
     "metadata": {},
     "output_type": "execute_result"
    }
   ],
   "source": [
    "# Check if there is repeat.\n",
    "random_array_4"
   ]
  },
  {
   "cell_type": "code",
   "execution_count": 8,
   "id": "8b33884c",
   "metadata": {},
   "outputs": [
    {
     "data": {
      "text/plain": [
       "array([0, 1, 2, 3, 4, 6, 7, 8, 9])"
      ]
     },
     "execution_count": 8,
     "metadata": {},
     "output_type": "execute_result"
    }
   ],
   "source": [
    "# Now we use the unique function. \n",
    "np.unique( random_array_4)"
   ]
  },
  {
   "cell_type": "markdown",
   "id": "52072e7e",
   "metadata": {},
   "source": [
    "### Viewing Index "
   ]
  },
  {
   "cell_type": "code",
   "execution_count": 10,
   "id": "113fa38d",
   "metadata": {},
   "outputs": [
    {
     "data": {
      "text/plain": [
       "1"
      ]
     },
     "execution_count": 10,
     "metadata": {},
     "output_type": "execute_result"
    }
   ],
   "source": [
    "a1[0]"
   ]
  },
  {
   "cell_type": "code",
   "execution_count": 11,
   "id": "fcf4658a",
   "metadata": {},
   "outputs": [
    {
     "data": {
      "text/plain": [
       "array([1, 2, 3])"
      ]
     },
     "execution_count": 11,
     "metadata": {},
     "output_type": "execute_result"
    }
   ],
   "source": [
    "a2[0]"
   ]
  },
  {
   "cell_type": "code",
   "execution_count": 12,
   "id": "a6da411c",
   "metadata": {},
   "outputs": [
    {
     "data": {
      "text/plain": [
       "array([[1, 2, 3],\n",
       "       [4, 5, 6],\n",
       "       [7, 8, 9]])"
      ]
     },
     "execution_count": 12,
     "metadata": {},
     "output_type": "execute_result"
    }
   ],
   "source": [
    "a3[0]"
   ]
  },
  {
   "cell_type": "code",
   "execution_count": 14,
   "id": "c26a308d",
   "metadata": {},
   "outputs": [
    {
     "data": {
      "text/plain": [
       "1"
      ]
     },
     "execution_count": 14,
     "metadata": {},
     "output_type": "execute_result"
    }
   ],
   "source": [
    "a3[0][0][0]"
   ]
  },
  {
   "cell_type": "markdown",
   "id": "fa2f654b",
   "metadata": {},
   "source": [
    "### Slicing"
   ]
  },
  {
   "cell_type": "code",
   "execution_count": 15,
   "id": "9627fef5",
   "metadata": {},
   "outputs": [
    {
     "data": {
      "text/plain": [
       "array([[[ 1,  2,  3],\n",
       "        [ 4,  5,  6],\n",
       "        [ 7,  8,  9]],\n",
       "\n",
       "       [[10, 11, 12],\n",
       "        [13, 14, 15],\n",
       "        [16, 17, 18]]])"
      ]
     },
     "execution_count": 15,
     "metadata": {},
     "output_type": "execute_result"
    }
   ],
   "source": [
    "a3"
   ]
  },
  {
   "cell_type": "code",
   "execution_count": 16,
   "id": "93e5e5b2",
   "metadata": {},
   "outputs": [
    {
     "data": {
      "text/plain": [
       "array([[[ 1,  2],\n",
       "        [ 4,  5]],\n",
       "\n",
       "       [[10, 11],\n",
       "        [13, 14]]])"
      ]
     },
     "execution_count": 16,
     "metadata": {},
     "output_type": "execute_result"
    }
   ],
   "source": [
    "a3[:2, :2, :2]"
   ]
  },
  {
   "cell_type": "code",
   "execution_count": null,
   "id": "0f94b1de",
   "metadata": {},
   "outputs": [],
   "source": []
  },
  {
   "cell_type": "code",
   "execution_count": 18,
   "id": "b1f3a787",
   "metadata": {},
   "outputs": [
    {
     "data": {
      "text/plain": [
       "array([[[[9, 8, 2, 5, 1],\n",
       "         [8, 1, 1, 0, 9],\n",
       "         [5, 0, 6, 6, 5],\n",
       "         [4, 1, 5, 7, 4]],\n",
       "\n",
       "        [[9, 7, 7, 6, 8],\n",
       "         [2, 4, 7, 2, 2],\n",
       "         [4, 1, 1, 8, 2],\n",
       "         [4, 8, 6, 3, 2]],\n",
       "\n",
       "        [[7, 0, 3, 5, 3],\n",
       "         [3, 1, 4, 2, 6],\n",
       "         [6, 4, 4, 2, 4],\n",
       "         [9, 6, 3, 3, 9]]],\n",
       "\n",
       "\n",
       "       [[[2, 4, 1, 6, 1],\n",
       "         [9, 1, 0, 1, 8],\n",
       "         [9, 4, 0, 7, 0],\n",
       "         [9, 8, 5, 0, 3]],\n",
       "\n",
       "        [[1, 6, 0, 8, 0],\n",
       "         [2, 5, 9, 8, 8],\n",
       "         [7, 5, 1, 2, 0],\n",
       "         [2, 8, 6, 9, 8]],\n",
       "\n",
       "        [[6, 1, 1, 6, 4],\n",
       "         [5, 0, 9, 5, 9],\n",
       "         [2, 1, 1, 0, 0],\n",
       "         [3, 6, 0, 6, 7]]]])"
      ]
     },
     "execution_count": 18,
     "metadata": {},
     "output_type": "execute_result"
    }
   ],
   "source": [
    "a4 = np.random.randint( 10, size=( 2,3,4,5 ))\n",
    "a4"
   ]
  },
  {
   "cell_type": "code",
   "execution_count": 36,
   "id": "fa5bdb8e",
   "metadata": {},
   "outputs": [
    {
     "data": {
      "text/plain": [
       "array([[[[6, 1, 1, 6, 4]]]])"
      ]
     },
     "execution_count": 36,
     "metadata": {},
     "output_type": "execute_result"
    }
   ],
   "source": [
    "# Get the first 4 numbers of the inner most arrays. \n",
    "a4[-1:, -1:, :1]"
   ]
  },
  {
   "cell_type": "code",
   "execution_count": null,
   "id": "e4e3b84d",
   "metadata": {},
   "outputs": [],
   "source": []
  }
 ],
 "metadata": {
  "kernelspec": {
   "display_name": "Python 3 (ipykernel)",
   "language": "python",
   "name": "python3"
  },
  "language_info": {
   "codemirror_mode": {
    "name": "ipython",
    "version": 3
   },
   "file_extension": ".py",
   "mimetype": "text/x-python",
   "name": "python",
   "nbconvert_exporter": "python",
   "pygments_lexer": "ipython3",
   "version": "3.11.0"
  }
 },
 "nbformat": 4,
 "nbformat_minor": 5
}
