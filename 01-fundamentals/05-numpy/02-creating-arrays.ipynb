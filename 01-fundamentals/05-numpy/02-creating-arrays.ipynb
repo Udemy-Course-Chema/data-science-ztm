{
 "cells": [
  {
   "cell_type": "markdown",
   "id": "645b21a7",
   "metadata": {},
   "source": [
    "# Creating arrays "
   ]
  },
  {
   "cell_type": "code",
   "execution_count": 1,
   "id": "1f1fc60e",
   "metadata": {},
   "outputs": [],
   "source": [
    "import numpy as np"
   ]
  },
  {
   "cell_type": "code",
   "execution_count": 2,
   "id": "48c8c824",
   "metadata": {},
   "outputs": [
    {
     "data": {
      "text/plain": [
       "array([1, 2, 3])"
      ]
     },
     "execution_count": 2,
     "metadata": {},
     "output_type": "execute_result"
    }
   ],
   "source": [
    "sample_array = np.array([1,2,3])\n",
    "sample_array"
   ]
  },
  {
   "cell_type": "code",
   "execution_count": 3,
   "id": "b80d4989",
   "metadata": {},
   "outputs": [
    {
     "data": {
      "text/plain": [
       "dtype('int64')"
      ]
     },
     "execution_count": 3,
     "metadata": {},
     "output_type": "execute_result"
    }
   ],
   "source": [
    "sample_array.dtype"
   ]
  },
  {
   "cell_type": "code",
   "execution_count": 8,
   "id": "5b7a6e39",
   "metadata": {},
   "outputs": [
    {
     "data": {
      "text/plain": [
       "array([[1., 1., 1.],\n",
       "       [1., 1., 1.]])"
      ]
     },
     "execution_count": 8,
     "metadata": {},
     "output_type": "execute_result"
    }
   ],
   "source": [
    "ones = np.ones((2,3))\n",
    "ones"
   ]
  },
  {
   "cell_type": "code",
   "execution_count": 10,
   "id": "7e924bdc",
   "metadata": {},
   "outputs": [
    {
     "data": {
      "text/plain": [
       "dtype('float64')"
      ]
     },
     "execution_count": 10,
     "metadata": {},
     "output_type": "execute_result"
    }
   ],
   "source": [
    "ones.dtype"
   ]
  },
  {
   "cell_type": "code",
   "execution_count": 11,
   "id": "30c383e4",
   "metadata": {},
   "outputs": [
    {
     "data": {
      "text/plain": [
       "numpy.ndarray"
      ]
     },
     "execution_count": 11,
     "metadata": {},
     "output_type": "execute_result"
    }
   ],
   "source": [
    "type( ones)"
   ]
  },
  {
   "cell_type": "code",
   "execution_count": 14,
   "id": "7451a892",
   "metadata": {},
   "outputs": [
    {
     "data": {
      "text/plain": [
       "array([[0., 0., 0.],\n",
       "       [0., 0., 0.]])"
      ]
     },
     "execution_count": 14,
     "metadata": {},
     "output_type": "execute_result"
    }
   ],
   "source": [
    "zeros = np.zeros((2,3))\n",
    "zeros"
   ]
  },
  {
   "cell_type": "markdown",
   "id": "540c86dc",
   "metadata": {},
   "source": [
    "## .arange() "
   ]
  },
  {
   "cell_type": "code",
   "execution_count": 18,
   "id": "ab7cedc7",
   "metadata": {},
   "outputs": [
    {
     "data": {
      "text/plain": [
       "array([0, 2, 4, 6, 8])"
      ]
     },
     "execution_count": 18,
     "metadata": {},
     "output_type": "execute_result"
    }
   ],
   "source": [
    "range_array = np.arange(0,10, 2)\n",
    "range_array"
   ]
  },
  {
   "cell_type": "markdown",
   "id": "dc70002a",
   "metadata": {},
   "source": [
    "## Random.randint() "
   ]
  },
  {
   "cell_type": "code",
   "execution_count": 19,
   "id": "9d3b2516",
   "metadata": {},
   "outputs": [
    {
     "data": {
      "text/plain": [
       "array([[ 8, 14, 11,  1,  1],\n",
       "       [10, 12, 11, 12,  6],\n",
       "       [ 4, 16, 13, 14,  1]])"
      ]
     },
     "execution_count": 19,
     "metadata": {},
     "output_type": "execute_result"
    }
   ],
   "source": [
    "random_array = np.random.randint(0, 20, size=(3,5))\n",
    "random_array"
   ]
  },
  {
   "cell_type": "code",
   "execution_count": 20,
   "id": "129e6e3b",
   "metadata": {},
   "outputs": [
    {
     "data": {
      "text/plain": [
       "15"
      ]
     },
     "execution_count": 20,
     "metadata": {},
     "output_type": "execute_result"
    }
   ],
   "source": [
    "random_array.size"
   ]
  },
  {
   "cell_type": "code",
   "execution_count": 21,
   "id": "82110b57",
   "metadata": {},
   "outputs": [
    {
     "data": {
      "text/plain": [
       "(3, 5)"
      ]
     },
     "execution_count": 21,
     "metadata": {},
     "output_type": "execute_result"
    }
   ],
   "source": [
    "random_array.shape"
   ]
  },
  {
   "cell_type": "markdown",
   "id": "bc5d9710",
   "metadata": {},
   "source": [
    "## Random.random "
   ]
  },
  {
   "cell_type": "code",
   "execution_count": 29,
   "id": "10c72aeb",
   "metadata": {},
   "outputs": [
    {
     "data": {
      "text/plain": [
       "array([[0.25911866, 0.82996237, 0.89137838],\n",
       "       [0.37017359, 0.670067  , 0.12471712],\n",
       "       [0.27572569, 0.66990844, 0.07343626],\n",
       "       [0.32546392, 0.89457783, 0.46612476],\n",
       "       [0.04578273, 0.77239774, 0.39964595]])"
      ]
     },
     "execution_count": 29,
     "metadata": {},
     "output_type": "execute_result"
    }
   ],
   "source": [
    "random_array_2 = np.random.random((5,3))\n",
    "random_array_2"
   ]
  },
  {
   "cell_type": "code",
   "execution_count": 30,
   "id": "b5194ac3",
   "metadata": {},
   "outputs": [
    {
     "data": {
      "text/plain": [
       "(5, 3)"
      ]
     },
     "execution_count": 30,
     "metadata": {},
     "output_type": "execute_result"
    }
   ],
   "source": [
    "random_array_2.shape"
   ]
  },
  {
   "cell_type": "markdown",
   "id": "0ddaa67b",
   "metadata": {},
   "source": [
    "## Random.rand() "
   ]
  },
  {
   "cell_type": "code",
   "execution_count": 32,
   "id": "b359e93c",
   "metadata": {},
   "outputs": [
    {
     "data": {
      "text/plain": [
       "array([[0.65734793, 0.99599517, 0.97170418],\n",
       "       [0.32963517, 0.60866853, 0.06396841],\n",
       "       [0.30799088, 0.51517273, 0.26775578],\n",
       "       [0.34223465, 0.49605208, 0.28354457],\n",
       "       [0.43437138, 0.82602058, 0.20178785]])"
      ]
     },
     "execution_count": 32,
     "metadata": {},
     "output_type": "execute_result"
    }
   ],
   "source": [
    "random_array_3 = np.random.rand(5,3)\n",
    "random_array_3"
   ]
  },
  {
   "cell_type": "markdown",
   "id": "d8da5edd",
   "metadata": {},
   "source": [
    "## random.seed()\n",
    "\n",
    "Pseudo-random numbers"
   ]
  },
  {
   "cell_type": "code",
   "execution_count": null,
   "id": "b4492b83",
   "metadata": {},
   "outputs": [],
   "source": [
    "np.random.seed()"
   ]
  }
 ],
 "metadata": {
  "kernelspec": {
   "display_name": "Python 3 (ipykernel)",
   "language": "python",
   "name": "python3"
  },
  "language_info": {
   "codemirror_mode": {
    "name": "ipython",
    "version": 3
   },
   "file_extension": ".py",
   "mimetype": "text/x-python",
   "name": "python",
   "nbconvert_exporter": "python",
   "pygments_lexer": "ipython3",
   "version": "3.11.0"
  }
 },
 "nbformat": 4,
 "nbformat_minor": 5
}
