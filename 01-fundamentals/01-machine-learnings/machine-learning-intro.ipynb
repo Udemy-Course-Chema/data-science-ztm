{
 "cells": [
  {
   "cell_type": "markdown",
   "id": "7fe9eb1f",
   "metadata": {},
   "source": [
    "# Machine Learning"
   ]
  },
  {
   "cell_type": "markdown",
   "id": "2b82916c",
   "metadata": {},
   "source": [
    "Artificial Intelligence, Data Science, Deep Learning, Neural Networks. \n",
    "In order:\n",
    "1. Artificial Intelligence\n",
    "2. Machine Learning\n",
    "3. Deep Learning\n",
    "\n"
   ]
  },
  {
   "cell_type": "markdown",
   "id": "97e43241",
   "metadata": {},
   "source": [
    "## What is Machine Learning?\n",
    "\n",
    "Machine Learning is using to predict results based on incoming data. \n",
    "\n"
   ]
  },
  {
   "cell_type": "markdown",
   "id": "9cb0b29f",
   "metadata": {},
   "source": [
    "## Artificial Intelligence\n",
    " Means a human intelligence exhibited by machines. \n",
    " \n",
    " That acts like human. \n",
    " \n",
    " It can only ONE thing. Can't have been in multiple habilites. \n",
    " \n"
   ]
  },
  {
   "cell_type": "markdown",
   "id": "44f5bcab",
   "metadata": {},
   "source": [
    "## Machine Learnings \n",
    "\n",
    "It is a subset of AI. It is an approach to try and achieve artificial intelligence through systems that can find patterns in a set of data. \n",
    "\n",
    "Science of getting computers to act without being explicitly programmed. "
   ]
  },
  {
   "cell_type": "markdown",
   "id": "3522a4bc",
   "metadata": {},
   "source": [
    "## Deep Learning\n",
    "\n",
    "One of the techniques for implementing machine learning. \n",
    "\n",
    "Type of algorithm. "
   ]
  },
  {
   "cell_type": "markdown",
   "id": "142403d4",
   "metadata": {},
   "source": [
    "## Data Science\n",
    "\n",
    "Analyzing data, loking at data,  do with data. \n",
    "Sort of a business goal. \n",
    "\n"
   ]
  },
  {
   "cell_type": "markdown",
   "id": "53608391",
   "metadata": {},
   "source": [
    "1. Data Collection (The hardest part)\n",
    "2. Data Modelling\n",
    "    1. Problem Definition\n",
    "    2. Data\n",
    "    3. Evaluation\n",
    "    4. Features\n",
    "    5. Modelling\n",
    "    6. Experiments\n",
    "3. Deployment"
   ]
  },
  {
   "cell_type": "markdown",
   "id": "b00247d0",
   "metadata": {},
   "source": [
    "## Types of Machine Learning"
   ]
  },
  {
   "cell_type": "markdown",
   "id": "3def1df6",
   "metadata": {},
   "source": [
    "1. Supervised\n",
    "    1. Classification\n",
    "    2. Regression\n",
    "2. Unsupervised\n",
    "    1. CLustering\n",
    "    2. Association Rule Learning\n",
    "3. Reinforcement\n",
    "    1. Skill acquisition\n",
    "    2. Real time learning"
   ]
  },
  {
   "cell_type": "code",
   "execution_count": null,
   "id": "cd718ea1",
   "metadata": {},
   "outputs": [],
   "source": []
  }
 ],
 "metadata": {
  "kernelspec": {
   "display_name": "Python 3 (ipykernel)",
   "language": "python",
   "name": "python3"
  },
  "language_info": {
   "codemirror_mode": {
    "name": "ipython",
    "version": 3
   },
   "file_extension": ".py",
   "mimetype": "text/x-python",
   "name": "python",
   "nbconvert_exporter": "python",
   "pygments_lexer": "ipython3",
   "version": "3.11.0"
  }
 },
 "nbformat": 4,
 "nbformat_minor": 5
}
